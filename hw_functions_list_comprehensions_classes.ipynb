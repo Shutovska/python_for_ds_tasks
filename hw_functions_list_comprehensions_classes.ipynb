{
 "cells": [
  {
   "cell_type": "markdown",
   "id": "1846cdd5",
   "metadata": {
    "ExecuteTime": {
     "end_time": "2023-06-16T11:08:23.474987Z",
     "start_time": "2023-06-16T11:08:23.466341Z"
    }
   },
   "source": [
    "В цьому наборі завдань попрацюємо з фукнціями, класами та list comprehensions.\n",
    "Нагадую синтаксис list comprehension \n",
    "- з умовою if:\n",
    "```\n",
    "newlist = [expression for item in iterable if condition == True]\n",
    "```\n",
    "\n",
    "- з умовою if...else:\n",
    "```\n",
    "newlist = [expression if condition == True else second_expression for item in iterable ]\n",
    "```"
   ]
  },
  {
   "cell_type": "markdown",
   "id": "306cbd4e",
   "metadata": {
    "ExecuteTime": {
     "end_time": "2023-06-15T10:01:54.759901Z",
     "start_time": "2023-06-15T10:01:54.754516Z"
    }
   },
   "source": [
    "1.Задана функція `strange_func`. \n",
    "Запустіть цю функцію на обчислення всіх елементів зі списку `input_list`. Результат обчислень запишіть у `output_list` та виведіть `output_list` на екран.\n",
    "\n",
    "Реалізуйте прохід всіх елементів списку `input_list` через цикл та через `list comprehension` - двома способами окремо."
   ]
  },
  {
   "cell_type": "code",
   "execution_count": null,
   "id": "b5bab760",
   "metadata": {
    "ExecuteTime": {
     "end_time": "2023-06-15T10:08:21.217301Z",
     "start_time": "2023-06-15T10:08:21.213956Z"
    }
   },
   "outputs": [],
   "source": [
    "def strange_func(number: int) -> str:\n",
    "    if number < 0:\n",
    "        return \"слон\"\n",
    "    else:\n",
    "        return \"жираф\""
   ]
  },
  {
   "cell_type": "code",
   "execution_count": null,
   "id": "61d82a3e",
   "metadata": {
    "ExecuteTime": {
     "end_time": "2023-06-15T10:11:23.708950Z",
     "start_time": "2023-06-15T10:11:23.703596Z"
    }
   },
   "outputs": [],
   "source": [
    "input_list = [14, -48, 26, 33, 50, 36, 47, -3, 32, -6, -39, -1, 14, -35, 31, -28, 32, 4, 33, 11, -7, 43, -5, 17, -33, -37, 45, -27, -29, 14]"
   ]
  },
  {
   "cell_type": "code",
   "execution_count": 2,
   "id": "8eb67fab",
   "metadata": {},
   "outputs": [
    {
     "name": "stdout",
     "output_type": "stream",
     "text": [
      "За допомогою циклу: ['жираф', 'слон', 'жираф', 'жираф', 'жираф', 'жираф', 'жираф', 'слон', 'жираф', 'слон', 'слон', 'слон', 'жираф', 'слон', 'жираф', 'слон', 'жираф', 'жираф', 'жираф', 'жираф', 'слон', 'жираф', 'слон', 'жираф', 'слон', 'слон', 'жираф', 'слон', 'слон', 'жираф']\n",
      "\n",
      "За допомогою list comprehension: ['жираф', 'слон', 'жираф', 'жираф', 'жираф', 'жираф', 'жираф', 'слон', 'жираф', 'слон', 'слон', 'слон', 'жираф', 'слон', 'жираф', 'слон', 'жираф', 'жираф', 'жираф', 'жираф', 'слон', 'жираф', 'слон', 'жираф', 'слон', 'слон', 'жираф', 'слон', 'слон', 'жираф']\n"
     ]
    }
   ],
   "source": [
    "def strange_func(number: int) -> str:\n",
    "    if number < 0:\n",
    "        return \"слон\"\n",
    "    else:\n",
    "        return \"жираф\"\n",
    "\n",
    "input_list = [14, -48, 26, 33, 50, 36, 47, -3, 32, -6, -39, -1, 14, -35, 31, -28, 32, 4, 33, 11, -7, 43, -5, 17, -33, -37, 45, -27, -29, 14]\n",
    "\n",
    "output_list_loop = []\n",
    "for number in input_list:\n",
    "    output_list_loop.append(strange_func(number))\n",
    "\n",
    "output_list_comprehension = [strange_func(number) for number in input_list]\n",
    "\n",
    "print(\"За допомогою циклу:\", output_list_loop)\n",
    "print(\"\\nЗа допомогою list comprehension:\", output_list_comprehension)"
   ]
  },
  {
   "cell_type": "markdown",
   "id": "39a81ffe",
   "metadata": {
    "ExecuteTime": {
     "end_time": "2023-06-15T10:11:44.344785Z",
     "start_time": "2023-06-15T10:11:44.338699Z"
    }
   },
   "source": [
    "Очікуваний результат: ```['жираф', 'слон', 'жираф', 'жираф', 'жираф', 'жираф', 'жираф', 'слон', 'жираф', 'слон', 'слон', 'слон', 'жираф', 'слон', 'жираф', 'слон', 'жираф', 'жираф', 'жираф', 'жираф', 'слон', 'жираф', 'слон', 'жираф', 'слон', 'слон', 'жираф', 'слон', 'слон', 'жираф']```"
   ]
  },
  {
   "cell_type": "markdown",
   "id": "cd421b5b",
   "metadata": {},
   "source": [
    "2.Напишіть функцію `custom_func`, яка приймає на вхід число, перевіряє, чи воно є цілочислельного типу, і якщо так, то перевіряє число на парність: \n",
    "- якщо парне - вертає це число в степені 3, \n",
    "- а якщо непарне - це число мінус 10.  \n",
    "\n",
    "Якщо ж число на вході не цілочисельного типу, функція вертає 0.  \n",
    "\n",
    "Запустіть цю функцію на обчислення всіх чисел зі списку `input_list`. Результат обчислень запишіть у `output_list` та виведіть `output_list` на екран. \n",
    "\n",
    "Реалізуйте прохід всіх чисел списку `input_list` через цикл та через `list comprehension` - двома способами окремо."
   ]
  },
  {
   "cell_type": "code",
   "execution_count": null,
   "id": "384b00e0",
   "metadata": {
    "ExecuteTime": {
     "end_time": "2023-06-15T10:10:34.758320Z",
     "start_time": "2023-06-15T10:10:34.754358Z"
    }
   },
   "outputs": [],
   "source": [
    "input_list = [36, 11.1, 91, 93, 26, 12.3213, 69, 50, 58, 22, 77, 18, 24, 55, 11, 76, 10.111, 39, 49, 94, 34, 40, 13, 111.111, 26, 44, 11, 34, 30, 39, 84, 37, 16, 1]"
   ]
  },
  {
   "cell_type": "code",
   "execution_count": 3,
   "id": "a9220273",
   "metadata": {},
   "outputs": [
    {
     "name": "stdout",
     "output_type": "stream",
     "text": [
      "За допомогою циклу: [46656, 0, 81, 83, 17576, 0, 59, 125000, 195112, 10648, 67, 5832, 13824, 45, 1, 438976, 0, 29, 39, 830584, 39304, 64000, 3, 0, 17576, 85184, 1, 39304, 27000, 29, 592704, 27, 4096, -9]\n",
      "\n",
      "За допомогою list comprehension: [46656, 0, 81, 83, 17576, 0, 59, 125000, 195112, 10648, 67, 5832, 13824, 45, 1, 438976, 0, 29, 39, 830584, 39304, 64000, 3, 0, 17576, 85184, 1, 39304, 27000, 29, 592704, 27, 4096, -9]\n"
     ]
    }
   ],
   "source": [
    "def custom_func(number):\n",
    "    if isinstance(number, int):\n",
    "        if number % 2 == 0:\n",
    "            return number ** 3\n",
    "        else:\n",
    "            return number - 10\n",
    "    else:\n",
    "        return 0\n",
    "\n",
    "input_list = [36, 11.1, 91, 93, 26, 12.3213, 69, 50, 58, 22, 77, 18, 24, 55, 11, 76, 10.111, 39, 49, 94, 34, 40, 13, 111.111, 26, 44, 11, 34, 30, 39, 84, 37, 16, 1]\n",
    "\n",
    "output_list_loop = []\n",
    "for number in input_list:\n",
    "    output_list_loop.append(custom_func(number))\n",
    "\n",
    "output_list_comprehension = [custom_func(number) for number in input_list]\n",
    "\n",
    "print(\"За допомогою циклу:\", output_list_loop)\n",
    "print(\"\\nЗа допомогою list comprehension:\", output_list_comprehension)"
   ]
  },
  {
   "cell_type": "markdown",
   "id": "e2723875",
   "metadata": {
    "ExecuteTime": {
     "end_time": "2023-06-15T10:04:46.583145Z",
     "start_time": "2023-06-15T10:04:46.577899Z"
    }
   },
   "source": [
    "Очікуваний результат:\n",
    "```[46656, 0, 81, 83, 17576, 0, 59, 125000, 195112, 10648, 67, 5832, 13824, 45, 1, 438976, 0, 29, 39, 830584, 39304, 64000, 3, 0, 17576, 85184, 1, 39304, 27000, 29, 592704, 27, 4096, -9]```"
   ]
  },
  {
   "cell_type": "markdown",
   "id": "12db4919",
   "metadata": {
    "ExecuteTime": {
     "end_time": "2023-06-15T10:06:39.204299Z",
     "start_time": "2023-06-15T10:06:39.198232Z"
    }
   },
   "source": [
    "Аби програмно порівняти ваш результат за очікуваним - використайте код нижче:"
   ]
  },
  {
   "cell_type": "code",
   "execution_count": null,
   "id": "84c13de2",
   "metadata": {
    "ExecuteTime": {
     "end_time": "2023-06-15T10:06:16.137271Z",
     "start_time": "2023-06-15T10:06:16.131305Z"
    }
   },
   "outputs": [],
   "source": [
    "output_list == [46656, 0, 81, 83, 17576, 0, 59, 125000, 195112, 10648, 67, 5832, 13824, 45, 1, 438976, 0, 29, 39, 830584, 39304, 64000, 3, 0, 17576, 85184, 1, 39304, 27000, 29, 592704, 27, 4096, -9]"
   ]
  },
  {
   "cell_type": "markdown",
   "id": "602e8fd8",
   "metadata": {
    "ExecuteTime": {
     "end_time": "2023-06-15T09:50:40.693543Z",
     "start_time": "2023-06-15T09:50:40.680059Z"
    }
   },
   "source": [
    "3.Напишіть функцію, яка отримує список чисел і повертає інший список із квадратами чисел, які діляться на 2 із вихідного списку. Наприклад, якщо на вході список [1,2,3,4], то на виході буде список [4,8].\n",
    "\n",
    "Запустіть функцію на вхідних списках `numbers_1`, `numbers_2`, `numbers_3` та виведіть результат роботи фукнції на екран."
   ]
  },
  {
   "cell_type": "code",
   "execution_count": null,
   "id": "4ed96c9d",
   "metadata": {
    "ExecuteTime": {
     "end_time": "2023-06-15T10:17:52.021673Z",
     "start_time": "2023-06-15T10:17:52.016216Z"
    }
   },
   "outputs": [],
   "source": [
    "numbers_1 = [1, 2, 3, 4, 5, 6, 7, 8, 9, 10]\n",
    "numbers_2 = [-18, 35, 50, 2, -39, 8, -39, -15, 14, -42]\n",
    "numbers_3 = [-3.1, 1.11, 3.48, 4.48, 4.68, -1.59, -1.8, 1.76, 4.7, 2.0]"
   ]
  },
  {
   "cell_type": "code",
   "execution_count": 4,
   "id": "d8b1a5d7",
   "metadata": {},
   "outputs": [
    {
     "name": "stdout",
     "output_type": "stream",
     "text": [
      "Результат для numbers_1: [4, 16, 36, 64, 100]\n",
      "Результат для numbers_2: [324, 2500, 4, 64, 196, 1764]\n",
      "Результат для numbers_3: [4.0]\n"
     ]
    }
   ],
   "source": [
    "def square_of_even(numbers):\n",
    "    return [num ** 2 for num in numbers if num % 2 == 0]\n",
    "\n",
    "numbers_1 = [1, 2, 3, 4, 5, 6, 7, 8, 9, 10]\n",
    "numbers_2 = [-18, 35, 50, 2, -39, 8, -39, -15, 14, -42]\n",
    "numbers_3 = [-3.1, 1.11, 3.48, 4.48, 4.68, -1.59, -1.8, 1.76, 4.7, 2.0]\n",
    "\n",
    "result_1 = square_of_even(numbers_1)\n",
    "result_2 = square_of_even(numbers_2)\n",
    "result_3 = square_of_even(numbers_3)\n",
    "\n",
    "print(\"Результат для numbers_1:\", result_1)\n",
    "print(\"Результат для numbers_2:\", result_2)\n",
    "print(\"Результат для numbers_3:\", result_3)"
   ]
  },
  {
   "cell_type": "markdown",
   "id": "96fead27",
   "metadata": {
    "ExecuteTime": {
     "end_time": "2023-06-15T10:18:22.220464Z",
     "start_time": "2023-06-15T10:18:22.215833Z"
    }
   },
   "source": [
    "Очікуваний результат:\n",
    "\n",
    "```\n",
    "    [4, 16, 36, 64, 100]\n",
    "    [324, 2500, 4, 64, 196, 1764]\n",
    "    [4.0]\n",
    "```"
   ]
  },
  {
   "cell_type": "markdown",
   "id": "93830499",
   "metadata": {},
   "source": [
    "4. Наданий список фруктів. Запишіть у новий список лише ті фрукти, які містять у своїй назві літеру `a`. Виведіть фінальний список на екран.\n",
    "\n",
    "Виконайте завдання із використанням циклу, та через `list comprehension` - двома способами окремо.  \n",
    "Увага! В цьому завданні логіку перевірки чи містить рядок літеру можна винести у функцію. Але якщо не виносити, то реалізація з `list comprehension` буде цікавішою :)"
   ]
  },
  {
   "cell_type": "code",
   "execution_count": null,
   "id": "9d52d585",
   "metadata": {
    "ExecuteTime": {
     "end_time": "2023-06-16T11:04:38.519497Z",
     "start_time": "2023-06-16T11:04:38.489031Z"
    }
   },
   "outputs": [],
   "source": [
    "fruits = [\"apple\", \"banana\", \"cherry\", \"date\", \"elderberry\", \"fig\", \"grape\", \"honeydew\", \"indian prune\", \"jackfruit\", \"kiwi\", \"lemon\", \"mango\", \"nectarine\", \"orange\", \"pineapple\", \"quince\", \"raspberry\", \"strawberry\", \"tangerine\", \"ugli fruit\", \"victoria plum\", \"watermelon\", \"xigua\", \"yellow passionfruit\", \"zucchini\"]"
   ]
  },
  {
   "cell_type": "code",
   "execution_count": 5,
   "id": "e503441f",
   "metadata": {},
   "outputs": [
    {
     "name": "stdout",
     "output_type": "stream",
     "text": [
      "За допомогою циклу: ['apple', 'banana', 'date', 'grape', 'indian prune', 'jackfruit', 'mango', 'nectarine', 'orange', 'pineapple', 'raspberry', 'strawberry', 'tangerine', 'victoria plum', 'watermelon', 'xigua', 'yellow passionfruit']\n",
      "\n",
      "За допомогою list comprehension: ['apple', 'banana', 'date', 'grape', 'indian prune', 'jackfruit', 'mango', 'nectarine', 'orange', 'pineapple', 'raspberry', 'strawberry', 'tangerine', 'victoria plum', 'watermelon', 'xigua', 'yellow passionfruit']\n"
     ]
    }
   ],
   "source": [
    "def has_letter_a(word):\n",
    "    return 'a' in word\n",
    "\n",
    "fruits = [\"apple\", \"banana\", \"cherry\", \"date\", \"elderberry\", \"fig\", \"grape\", \"honeydew\", \"indian prune\", \"jackfruit\", \"kiwi\", \"lemon\", \"mango\", \"nectarine\", \"orange\", \"pineapple\", \"quince\", \"raspberry\", \"strawberry\", \"tangerine\", \"ugli fruit\", \"victoria plum\", \"watermelon\", \"xigua\", \"yellow passionfruit\", \"zucchini\"]\n",
    "\n",
    "filtered_fruits_loop = []\n",
    "for fruit in fruits:\n",
    "    if has_letter_a(fruit):\n",
    "        filtered_fruits_loop.append(fruit)\n",
    "\n",
    "filtered_fruits_comprehension = [fruit for fruit in fruits if has_letter_a(fruit)]\n",
    "\n",
    "print(\"За допомогою циклу:\", filtered_fruits_loop)\n",
    "print(\"\\nЗа допомогою list comprehension:\", filtered_fruits_comprehension)"
   ]
  },
  {
   "cell_type": "markdown",
   "id": "6eba3ce5",
   "metadata": {
    "ExecuteTime": {
     "end_time": "2023-06-16T11:12:20.070099Z",
     "start_time": "2023-06-16T11:12:20.065489Z"
    }
   },
   "source": [
    "5.Заданий список чисел. Створіть новий список на основі заданоо за наступною логікою\n",
    "- якщо число більше або дорівнює 45, то в новий список додаємо це число + 5. Наприклад, для числа 50 вихідного списку, в новий ми додамо число 55\n",
    "- інакше - це число - 4. Наприклад, для числа 30 вихідного списку, в новий ми додамо число 26  \n",
    "\n",
    "Виведіть отриманий список на екран.\n",
    "\n",
    "Реалізуйте логіку через цикл та через `list comprehension` - двома способами окремо."
   ]
  },
  {
   "cell_type": "code",
   "execution_count": null,
   "id": "64c30414",
   "metadata": {
    "ExecuteTime": {
     "end_time": "2023-06-16T11:13:01.047506Z",
     "start_time": "2023-06-16T11:13:01.044731Z"
    }
   },
   "outputs": [],
   "source": [
    "input_list = [22, 13, 45, 50, 98, 69, 43, 44, 1]"
   ]
  },
  {
   "cell_type": "code",
   "execution_count": 6,
   "id": "0e3a8bcd",
   "metadata": {},
   "outputs": [
    {
     "name": "stdout",
     "output_type": "stream",
     "text": [
      "За допомогою циклу: [18, 9, 50, 55, 103, 74, 39, 40, -3]\n",
      "\n",
      "За допомогою list comprehension: [18, 9, 50, 55, 103, 74, 39, 40, -3]\n"
     ]
    }
   ],
   "source": [
    "input_list = [22, 13, 45, 50, 98, 69, 43, 44, 1]\n",
    "\n",
    "output_list_loop = []\n",
    "for number in input_list:\n",
    "    if number >= 45:\n",
    "        output_list_loop.append(number + 5)\n",
    "    else:\n",
    "        output_list_loop.append(number - 4)\n",
    "\n",
    "output_list_comprehension = [number + 5 if number >= 45 else number - 4 for number in input_list]\n",
    "\n",
    "print(\"За допомогою циклу:\", output_list_loop)\n",
    "print(\"\\nЗа допомогою list comprehension:\", output_list_comprehension)"
   ]
  },
  {
   "cell_type": "markdown",
   "id": "3788acf1",
   "metadata": {},
   "source": [
    "6.Заданий список `input_list` з пропущеними значеннями. Напишіть логіку, за якою ми будемо створювати новий список такий, що якщо значення None, то ми замість нього вставляємо 0, інакше - елемент вихідного спику.\n",
    "Тобто зі списку [1, None, 2] за цією логікою ми отримаємо [1, 0, 2] у новому списку.\n",
    "\n",
    "Виведіть отриманий список на екран.\n",
    "\n",
    "Реалізуйте логіку через цикл та через list comprehension - двома способами окремо."
   ]
  },
  {
   "cell_type": "code",
   "execution_count": null,
   "id": "7124a4c2",
   "metadata": {
    "ExecuteTime": {
     "end_time": "2023-06-16T11:17:59.925084Z",
     "start_time": "2023-06-16T11:17:59.922391Z"
    }
   },
   "outputs": [],
   "source": [
    "input_list = [22, None, 13, None, None, 45, 50, 98, None, 69, 43, 44, 1, None]"
   ]
  },
  {
   "cell_type": "code",
   "execution_count": 7,
   "id": "e7212a8c",
   "metadata": {},
   "outputs": [
    {
     "name": "stdout",
     "output_type": "stream",
     "text": [
      "За допомогою циклу: [22, 0, 13, 0, 0, 45, 50, 98, 0, 69, 43, 44, 1, 0]\n",
      "\n",
      "За допомогою list comprehension: [22, 0, 13, 0, 0, 45, 50, 98, 0, 69, 43, 44, 1, 0]\n"
     ]
    }
   ],
   "source": [
    "input_list = [22, None, 13, None, None, 45, 50, 98, None, 69, 43, 44, 1, None]\n",
    "\n",
    "output_list_loop = []\n",
    "for value in input_list:\n",
    "    if value is None:\n",
    "        output_list_loop.append(0)\n",
    "    else:\n",
    "        output_list_loop.append(value)\n",
    "\n",
    "output_list_comprehension = [0 if value is None else value for value in input_list]\n",
    "\n",
    "print(\"За допомогою циклу:\", output_list_loop)\n",
    "print(\"\\nЗа допомогою list comprehension:\", output_list_comprehension)"
   ]
  },
  {
   "cell_type": "markdown",
   "id": "6d491849",
   "metadata": {},
   "source": [
    "7.Заданий клас, який описує коло та вміє рахувати площу кола по заданому радіусу. Створіть два кола з радіусами 5 і 11. Обчислість з допомогою функціоналу класу площі цих двох кіл і виведіть результати на екран."
   ]
  },
  {
   "cell_type": "code",
   "execution_count": null,
   "id": "fa5b47ac",
   "metadata": {
    "ExecuteTime": {
     "end_time": "2023-06-16T11:36:33.504851Z",
     "start_time": "2023-06-16T11:36:33.498537Z"
    }
   },
   "outputs": [],
   "source": [
    "import math\n",
    "\n",
    "class Circle:\n",
    "    def __init__(self, radius):\n",
    "        self.radius = radius\n",
    "\n",
    "    def calculate_area(self):\n",
    "        return round(math.pi * self.radius ** 2, 2)"
   ]
  },
  {
   "cell_type": "code",
   "execution_count": 8,
   "id": "2bcdc94a",
   "metadata": {},
   "outputs": [
    {
     "name": "stdout",
     "output_type": "stream",
     "text": [
      "Площа кола з радіусом 5: 78.54\n",
      "Площа кола з радіусом 11: 380.13\n"
     ]
    }
   ],
   "source": [
    "import math\n",
    "\n",
    "class Circle:\n",
    "    def __init__(self, radius):\n",
    "        self.radius = radius\n",
    "\n",
    "    def calculate_area(self):\n",
    "        return round(math.pi * self.radius ** 2, 2)\n",
    "\n",
    "circle_1 = Circle(5)\n",
    "circle_2 = Circle(11)\n",
    "\n",
    "area_1 = circle_1.calculate_area()\n",
    "area_2 = circle_2.calculate_area()\n",
    "\n",
    "print(\"Площа кола з радіусом 5:\", area_1)\n",
    "print(\"Площа кола з радіусом 11:\", area_2)"
   ]
  },
  {
   "cell_type": "markdown",
   "id": "430f698b",
   "metadata": {},
   "source": [
    "8.Додайте в клас `Circle`, визначений в попередньому завданні, метод для обчислення периметра `calculate_perimeter` з округленням до двох цифр після коми. Периметр кола рахується за формулою `C = 2 · π · r`, де π - це значення числа Пі, яке ми можемо отримати з math.pi, а r - радіус кола. Спопіюйте визначення класу і додайте в нього новий метод. Після цього створіть нові кола з радіусами 5 і 11 та обчисліть їх периметри.   \n",
    "Увага: нам треба додати новий метод, але ми нічого не видаляємо :)"
   ]
  },
  {
   "cell_type": "code",
   "execution_count": 9,
   "id": "731544fd",
   "metadata": {},
   "outputs": [
    {
     "name": "stdout",
     "output_type": "stream",
     "text": [
      "Площа кола з радіусом 5: 78.54\n",
      "Периметр кола з радіусом 5: 31.42\n",
      "\n",
      "Площа кола з радіусом 11: 380.13\n",
      "Периметр кола з радіусом 11: 69.12\n"
     ]
    }
   ],
   "source": [
    "import math\n",
    "\n",
    "class Circle:\n",
    "    def __init__(self, radius):\n",
    "        self.radius = radius\n",
    "\n",
    "    def calculate_area(self):\n",
    "        return round(math.pi * self.radius ** 2, 2)\n",
    "\n",
    "    def calculate_perimeter(self):\n",
    "        return round(2 * math.pi * self.radius, 2)\n",
    "\n",
    "circle_1 = Circle(5)\n",
    "circle_2 = Circle(11)\n",
    "\n",
    "area_1 = circle_1.calculate_area()\n",
    "perimeter_1 = circle_1.calculate_perimeter()\n",
    "\n",
    "area_2 = circle_2.calculate_area()\n",
    "perimeter_2 = circle_2.calculate_perimeter()\n",
    "\n",
    "print(\"Площа кола з радіусом 5:\", area_1)\n",
    "print(\"Периметр кола з радіусом 5:\", perimeter_1)\n",
    "\n",
    "print(\"\\nПлоща кола з радіусом 11:\", area_2)\n",
    "print(\"Периметр кола з радіусом 11:\", perimeter_2)"
   ]
  },
  {
   "cell_type": "markdown",
   "id": "4a39e47f",
   "metadata": {},
   "source": [
    "9.Створіть клас під назвою `Student`, який має два атрибути: `name` (ім'я) та `grade` (оцінка). Оцінкою може були літера - з набору  [\"F\", \"D\", \"C\", \"B\", \"A\"], де \"А\" - найвища оцінка, \"F\" - найнижча.  Клас повинен мати наступні функціональні можливості:\n",
    "\n",
    "1. Метод `__init__`, який ініціалізує `name` та `grade`.\n",
    "2. Метод `display_student()`, який відображає ім'я та оцінку студента з допомогою `print`. Форматування - на Ваш розсуд.\n",
    "3. Метод `upgrade_grade()`, який підвищує оцінку на 1 рівень (наприклад, з \"B\" на \"A\"), якщо вона вже не \"A\". Якщо вже \"А\", то необхідно вивести повідомлення про те, що оцінка не може бути підвищена, оскільки вона вже і так найвища.\n",
    "\n",
    "Після створення класу, створіть 2 екземпляри `Student` з вигаданими імʼями та оцінками, і перевірте роботу методів `display_student()` та `upgrade_grade()`. Виведіть результат перевірки на екран."
   ]
  },
  {
   "cell_type": "code",
   "execution_count": 10,
   "id": "51ef0571",
   "metadata": {},
   "outputs": [
    {
     "name": "stdout",
     "output_type": "stream",
     "text": [
      "Student: Alice, Grade: B\n",
      "Student: Bob, Grade: C\n",
      "Alice's grade upgraded from B to A\n",
      "Bob's grade upgraded from C to B\n",
      "Student: Alice, Grade: A\n",
      "Student: Bob, Grade: B\n"
     ]
    }
   ],
   "source": [
    "class Student:\n",
    "    def __init__(self, name, grade):\n",
    "        self.name = name\n",
    "        self.grade = grade\n",
    "\n",
    "    def display_student(self):\n",
    "        print(f\"Student: {self.name}, Grade: {self.grade}\")\n",
    "\n",
    "    def upgrade_grade(self):\n",
    "        grades_order = [\"F\", \"D\", \"C\", \"B\", \"A\"]\n",
    "        if self.grade != \"A\":\n",
    "            current_index = grades_order.index(self.grade)\n",
    "            new_index = current_index + 1\n",
    "            new_grade = grades_order[new_index]\n",
    "            print(f\"{self.name}'s grade upgraded from {self.grade} to {new_grade}\")\n",
    "            self.grade = new_grade\n",
    "        else:\n",
    "            print(f\"{self.name}'s grade is already the highest (A). Cannot upgrade further.\")\n",
    "\n",
    "student1 = Student(\"Alice\", \"B\")\n",
    "student2 = Student(\"Bob\", \"C\")\n",
    "\n",
    "student1.display_student()\n",
    "student2.display_student()\n",
    "\n",
    "student1.upgrade_grade()\n",
    "student2.upgrade_grade()\n",
    "\n",
    "student1.display_student()\n",
    "student2.display_student()"
   ]
  },
  {
   "cell_type": "markdown",
   "id": "fbf61911",
   "metadata": {},
   "source": [
    "10.Створіть клас з назвою `GraduateStudent`, який є нащадком класу `Student` з попереднього завдання.\n",
    "Клас `GraduateStudent` повинен мати додатковий атрибут `thesis_title` (назва дисертації - тип str). Тобто цей атрибут має зʼявитись при ініціації екземпляру класу.  \n",
    "Він також повинен мати метод `display_thesis()`, який виводить назву дисертації.\n",
    "\n",
    "Після створення класу, створіть екземпляр `GraduateStudent` і перевірте роботу методів `display_student()`, `upgrade_grade()`, та `display_thesis()`. Виведіть результат перевірки на екран.\n",
    "\n"
   ]
  },
  {
   "cell_type": "code",
   "execution_count": 11,
   "id": "aafe9159",
   "metadata": {},
   "outputs": [
    {
     "name": "stdout",
     "output_type": "stream",
     "text": [
      "Student: Charlie, Grade: B\n",
      "Thesis Title: Exploring Advanced Topics in Python\n",
      "Charlie's grade upgraded from B to A\n",
      "Student: Charlie, Grade: A\n",
      "Thesis Title: Exploring Advanced Topics in Python\n"
     ]
    }
   ],
   "source": [
    "class GraduateStudent(Student):\n",
    "    def __init__(self, name, grade, thesis_title):\n",
    "        super().__init__(name, grade)\n",
    "        self.thesis_title = thesis_title\n",
    "\n",
    "    def display_thesis(self):\n",
    "        print(f\"Thesis Title: {self.thesis_title}\")\n",
    "        \n",
    "graduate_student = GraduateStudent(\"Charlie\", \"B\", \"Exploring Advanced Topics in Python\")\n",
    "\n",
    "graduate_student.display_student()\n",
    "graduate_student.display_thesis()\n",
    "\n",
    "graduate_student.upgrade_grade()\n",
    "\n",
    "graduate_student.display_student()\n",
    "graduate_student.display_thesis()"
   ]
  },
  {
   "cell_type": "code",
   "execution_count": null,
   "id": "a3851a39",
   "metadata": {},
   "outputs": [],
   "source": []
  }
 ],
 "metadata": {
  "kernelspec": {
   "display_name": "Python 3 (ipykernel)",
   "language": "python",
   "name": "python3"
  },
  "language_info": {
   "codemirror_mode": {
    "name": "ipython",
    "version": 3
   },
   "file_extension": ".py",
   "mimetype": "text/x-python",
   "name": "python",
   "nbconvert_exporter": "python",
   "pygments_lexer": "ipython3",
   "version": "3.11.5"
  },
  "toc": {
   "base_numbering": 1,
   "nav_menu": {},
   "number_sections": true,
   "sideBar": true,
   "skip_h1_title": false,
   "title_cell": "Table of Contents",
   "title_sidebar": "Contents",
   "toc_cell": false,
   "toc_position": {},
   "toc_section_display": true,
   "toc_window_display": false
  }
 },
 "nbformat": 4,
 "nbformat_minor": 5
}
